{
 "cells": [
  {
   "cell_type": "code",
   "execution_count": 1,
   "metadata": {},
   "outputs": [],
   "source": [
    "import json\n",
    "import os\n",
    "import os.path as path\n",
    "import glob\n",
    "import numpy as np\n",
    "import torch\n",
    "from torch.utils.data import Dataset, DataLoader\n",
    "import sklearn\n",
    "from sklearn.cluster import KMeans\n",
    "import matplotlib.pyplot as plt"
   ]
  },
  {
   "cell_type": "code",
   "execution_count": 2,
   "metadata": {},
   "outputs": [],
   "source": [
    "def parse(dirname, num_joints=15):\n",
    "    filenames = sorted(glob.glob(path.join(dirname, '*.json')))\n",
    "    poses = np.zeros([len(filenames), num_joints, 2])\n",
    "    confidences = np.zeros([len(filenames), num_joints])\n",
    "    prev_pose = None\n",
    "    missed_detections = 0\n",
    "\n",
    "    for i, filename in enumerate(filenames):\n",
    "        with open(filename) as json_file:\n",
    "            people = json.load(json_file)['people']\n",
    "        if len(people) == 0:\n",
    "            missed_detections += 1\n",
    "            pose = poses[i-1, :]\n",
    "        else:\n",
    "            points = np.array(people[0]['pose_keypoints_2d']).reshape(-1, 3)[:num_joints]\n",
    "            pose = -points[:, :2]\n",
    "            confidence = points[:, -1]\n",
    "            confidences[i, :] = confidence\n",
    "\n",
    "        prev_pose = pose if prev_pose is None else prev_pose\n",
    "        poses[i] = pose\n",
    "        poses[i, confidences[i] < 0.25] = prev_pose[confidences[i] < 0.25]\n",
    "        prev_pose = poses[i]\n",
    "    return poses"
   ]
  },
  {
   "cell_type": "code",
   "execution_count": 3,
   "metadata": {},
   "outputs": [
    {
     "name": "stdout",
     "output_type": "stream",
     "text": [
      "4861\n"
     ]
    }
   ],
   "source": [
    "first = parse(\"output/videos/temp0.mp4\")\n",
    "print(len(first))"
   ]
  },
  {
   "cell_type": "code",
   "execution_count": 4,
   "metadata": {},
   "outputs": [],
   "source": [
    "class PoseDataset(Dataset):\n",
    "    def __init__(self, directory):\n",
    "        self.dirnames = sorted(glob.glob(path.join(directory, '*.mp4')))\n",
    "    def __getitem__(self, index):\n",
    "        return parse(self.dirnames[index])\n",
    "    def __len__(self):\n",
    "        return len(self.dirnames)"
   ]
  },
  {
   "cell_type": "code",
   "execution_count": 5,
   "metadata": {},
   "outputs": [],
   "source": [
    "data = PoseDataset(\"output/videos\")\n",
    "data_split = [np.array_split(y, len(y) // 30, 0)[1:-1] for y in data]\n",
    "data_set = [item for sublist in data_split for item in sublist]\n",
    "data_set = [x for x in data_set if x.shape[0] == 30]\n",
    "pose_data = data"
   ]
  },
  {
   "cell_type": "code",
   "execution_count": 6,
   "metadata": {},
   "outputs": [
    {
     "data": {
      "text/plain": [
       "KMeans(algorithm='auto', copy_x=True, init='k-means++', max_iter=300,\n",
       "       n_clusters=128, n_init=10, n_jobs=None, precompute_distances='auto',\n",
       "       random_state=None, tol=0.0001, verbose=0)"
      ]
     },
     "execution_count": 6,
     "metadata": {},
     "output_type": "execute_result"
    }
   ],
   "source": [
    "kmeans = KMeans(n_clusters=128)\n",
    "kmeans.fit(np.stack(data_set).reshape(len(data_set), -1))"
   ]
  },
  {
   "cell_type": "code",
   "execution_count": 7,
   "metadata": {},
   "outputs": [
    {
     "data": {
      "text/plain": [
       "array([[-295.3862027 , -129.32029865, -301.44498649, ..., -236.2232027 ,\n",
       "        -278.13602703, -289.05168919],\n",
       "       [-681.81169231, -293.74407692, -706.84069231, ..., -509.43146154,\n",
       "        -780.40323077, -588.604     ],\n",
       "       [-699.09986538, -264.33012564, -703.37459744, ..., -507.78755128,\n",
       "        -805.91941026, -576.8885    ],\n",
       "       ...,\n",
       "       [ -51.3949    , -570.669     ,  -35.6967    , ..., -411.95      ,\n",
       "        -304.227     , -447.179     ],\n",
       "       [-310.13154569, -123.28053873, -309.1206879 , ..., -250.39396067,\n",
       "        -322.49591528, -292.64096823],\n",
       "       [-163.1745    , -652.9005    , -163.0835    , ..., -521.577     ,\n",
       "        -978.172     , -609.813     ]])"
      ]
     },
     "execution_count": 7,
     "metadata": {},
     "output_type": "execute_result"
    }
   ],
   "source": [
    "kmeans.cluster_centers_"
   ]
  },
  {
   "cell_type": "code",
   "execution_count": 8,
   "metadata": {},
   "outputs": [
    {
     "data": {
      "text/plain": [
       "<matplotlib.collections.PathCollection at 0x7f9603586950>"
      ]
     },
     "execution_count": 8,
     "metadata": {},
     "output_type": "execute_result"
    },
    {
     "data": {
      "image/png": "[encoded data removed]",
      "text/plain": [
       "<Figure size 432x288 with 1 Axes>"
      ]
     },
     "metadata": {
      "needs_background": "light"
     },
     "output_type": "display_data"
    }
   ],
   "source": [
    "plt.scatter(kmeans.cluster_centers_[0].reshape(30, 15, 2)[0, :, 0], kmeans.cluster_centers_[0].reshape(30, 15, 2)[0, :, 1])"
   ]
  },
  {
   "cell_type": "code",
   "execution_count": 9,
   "metadata": {},
   "outputs": [],
   "source": [
    "np.save(\"clusters.npy\", kmeans.cluster_centers_)"
   ]
  },
  {
   "cell_type": "code",
   "execution_count": 20,
   "metadata": {},
   "outputs": [],
   "source": [
    "new_data = [x[:1200] for x in pose_data]\n",
    "new_data = [np.split(x, 40, 0) for x in new_data]\n",
    "labels = np.stack([kmeans.predict(np.stack(x).reshape(40, 30*15*2)) for x in new_data])"
   ]
  },
  {
   "cell_type": "code",
   "execution_count": 21,
   "metadata": {},
   "outputs": [],
   "source": [
    "np.save(\"labels.npy\", labels)"
   ]
  },
  {
   "cell_type": "code",
   "execution_count": 22,
   "metadata": {},
   "outputs": [],
   "source": [
    "import librosa\n",
    "from librosa.core import load\n",
    "from librosa.feature import melspectrogram, tempogram\n",
    "from librosa.display import specshow"
   ]
  },
  {
   "cell_type": "code",
   "execution_count": 30,
   "metadata": {},
   "outputs": [],
   "source": [
    "class MusicDataset(Dataset):\n",
    "    def __init__(self, directory):\n",
    "        super().__init__()\n",
    "        self.path = directory\n",
    "        self.files = sorted(glob.glob(path.join(directory, '*.wav')))\n",
    "    def __getitem__(self, index):\n",
    "        filename = self.files[index]\n",
    "        wav = load(filename)[0]\n",
    "        mel_spectrogram = melspectrogram(wav)\n",
    "        tempo = tempogram(wav)\n",
    "        merged = np.concatenate([mel_spectrogram, tempo], 0)\n",
    "        scaled = np.log1p(merged)\n",
    "        return scaled[:, :1200]\n",
    "    def __len__(self):\n",
    "        return len(self.files)"
   ]
  },
  {
   "cell_type": "code",
   "execution_count": 31,
   "metadata": {},
   "outputs": [],
   "source": [
    "music_data = MusicDataset(\"audio\")"
   ]
  },
  {
   "cell_type": "code",
   "execution_count": 32,
   "metadata": {},
   "outputs": [],
   "source": [
    "from torch.utils.data import DataLoader\n",
    "musics = [x for x in DataLoader(music_data, num_workers=16, batch_size=None)]"
   ]
  },
  {
   "cell_type": "code",
   "execution_count": 34,
   "metadata": {},
   "outputs": [
    {
     "name": "stdout",
     "output_type": "stream",
     "text": [
      "[torch.Size([512, 1200]), torch.Size([512, 1200]), torch.Size([512, 1200]), torch.Size([512, 1200]), torch.Size([512, 1200]), torch.Size([512, 1200]), torch.Size([512, 1200]), torch.Size([512, 1200]), torch.Size([512, 1200]), torch.Size([512, 1200]), torch.Size([512, 1200]), torch.Size([512, 1200]), torch.Size([512, 1200]), torch.Size([512, 1200]), torch.Size([512, 1200]), torch.Size([512, 1200]), torch.Size([512, 1200]), torch.Size([512, 1200]), torch.Size([512, 1200]), torch.Size([512, 1200]), torch.Size([512, 1200]), torch.Size([512, 1200]), torch.Size([512, 1200]), torch.Size([512, 1200]), torch.Size([512, 1200]), torch.Size([512, 1200]), torch.Size([512, 1200]), torch.Size([512, 1200]), torch.Size([512, 1200]), torch.Size([512, 1200]), torch.Size([512, 1200]), torch.Size([512, 1200]), torch.Size([512, 1200]), torch.Size([512, 1200]), torch.Size([512, 1200]), torch.Size([512, 1200]), torch.Size([512, 1200]), torch.Size([512, 1200]), torch.Size([512, 1200]), torch.Size([512, 1200]), torch.Size([512, 1200]), torch.Size([512, 1200]), torch.Size([512, 1200]), torch.Size([512, 1200]), torch.Size([512, 1200]), torch.Size([512, 1200]), torch.Size([512, 1200]), torch.Size([512, 1200]), torch.Size([512, 1200]), torch.Size([512, 1200]), torch.Size([512, 1200]), torch.Size([512, 1200]), torch.Size([512, 1200]), torch.Size([512, 1200]), torch.Size([512, 1200]), torch.Size([512, 1200]), torch.Size([512, 1200]), torch.Size([512, 1200]), torch.Size([512, 1200]), torch.Size([512, 1200]), torch.Size([512, 1200]), torch.Size([512, 1200]), torch.Size([512, 1200]), torch.Size([512, 1200]), torch.Size([512, 1200]), torch.Size([512, 1200]), torch.Size([512, 1200]), torch.Size([512, 1200]), torch.Size([512, 1200]), torch.Size([512, 1200]), torch.Size([512, 1200]), torch.Size([512, 1200]), torch.Size([512, 1200]), torch.Size([512, 1200]), torch.Size([512, 1200]), torch.Size([512, 1200]), torch.Size([512, 1200]), torch.Size([512, 1200]), torch.Size([512, 1200]), torch.Size([512, 1200]), torch.Size([512, 1200]), torch.Size([512, 1200]), torch.Size([512, 1200]), torch.Size([512, 1200]), torch.Size([512, 1200]), torch.Size([512, 1200]), torch.Size([512, 1200]), torch.Size([512, 1200]), torch.Size([512, 1200]), torch.Size([512, 1200]), torch.Size([512, 1200]), torch.Size([512, 1200]), torch.Size([512, 1200]), torch.Size([512, 1200]), torch.Size([512, 1200]), torch.Size([512, 1200]), torch.Size([512, 1200]), torch.Size([512, 1200]), torch.Size([512, 1200]), torch.Size([512, 1200])]\n"
     ]
    }
   ],
   "source": [
    "musics = [x[:, :1200] for x in musics]\n",
    "print([x.shape for x in musics])\n",
    "np.save(\"music.npy\", np.stack(musics))"
   ]
  },
  {
   "cell_type": "code",
   "execution_count": null,
   "metadata": {},
   "outputs": [],
   "source": []
  }
 ],
 "metadata": {
  "kernelspec": {
   "display_name": "Python 3",
   "language": "python",
   "name": "python3"
  },
  "language_info": {
   "codemirror_mode": {
    "name": "ipython",
    "version": 3
   },
   "file_extension": ".py",
   "mimetype": "text/x-python",
   "name": "python",
   "nbconvert_exporter": "python",
   "pygments_lexer": "ipython3",
   "version": "3.7.5"
  }
 },
 "nbformat": 4,
 "nbformat_minor": 2
}
