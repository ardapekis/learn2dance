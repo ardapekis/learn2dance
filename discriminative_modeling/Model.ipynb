{
 "cells": [
  {
   "cell_type": "code",
   "execution_count": 1,
   "metadata": {},
   "outputs": [],
   "source": [
    "import torch\n",
    "import torch.nn as nn\n",
    "import torch.optim as optim\n",
    "import json\n",
    "import os\n",
    "import os.path as path\n",
    "import glob\n",
    "import numpy as np\n",
    "from tqdm.notebook import tqdm\n",
    "from torch.utils.data import Dataset, DataLoader\n",
    "\n",
    "class MusicEncoder(nn.Module):\n",
    "    def __init__(self, music_feats, music_emb, out_size=128, hid_size=256, num_layers=2, dropout=0.5, **kwargs):\n",
    "        super().__init__()\n",
    "        \n",
    "        self.num_layers = num_layers\n",
    "        self.music_embedding = nn.Linear(music_feats, music_emb)\n",
    "        self.lstm = nn.LSTM(input_size = music_emb, hidden_size = hid_size, num_layers = num_layers, batch_first = True, bidirectional = True, dropout = dropout)\n",
    "\n",
    "    def forward(self, music):\n",
    "        music = self.music_embedding(music)\n",
    "        _, hid = self.lstm(music)\n",
    "        return hid[0][2*self.num_layers-2, :]\n",
    "    \n",
    "class PoseDecoder(nn.Module):\n",
    "    def __init__(self, hid_size=256, out_size=128):\n",
    "        super().__init__()\n",
    "        self.prev_embedder = nn.Embedding(out_size, hid_size)\n",
    "        self.cls = nn.Sequential(\n",
    "            nn.Linear(2*hid_size, hid_size),\n",
    "            nn.ReLU(),\n",
    "            nn.Linear(hid_size, out_size)\n",
    "        )\n",
    "        self.out_size = out_size\n",
    "        self.hid_size = hid_size\n",
    "    def forward(self, music_emb, prev=None):\n",
    "        prev_emb = torch.zeros((music_emb.size(0), self.hid_size), device=music_emb.device, dtype=music_emb.dtype) if prev is None else self.prev_embedder(prev)\n",
    "        new_emb = torch.cat([music_emb, prev_emb], 1)\n",
    "        return self.cls(new_emb)"
   ]
  },
  {
   "cell_type": "code",
   "execution_count": 2,
   "metadata": {},
   "outputs": [],
   "source": [
    "enc = MusicEncoder(512, 256, 128, 256, 2, 0)\n",
    "dec = PoseDecoder()"
   ]
  },
  {
   "cell_type": "code",
   "execution_count": 3,
   "metadata": {},
   "outputs": [
    {
     "data": {
      "text/plain": [
       "<All keys matched successfully>"
      ]
     },
     "execution_count": 3,
     "metadata": {},
     "output_type": "execute_result"
    }
   ],
   "source": [
    "enc.load_state_dict(torch.load(\"enc.pt\"))\n",
    "dec.load_state_dict(torch.load(\"dec.pt\"))"
   ]
  },
  {
   "cell_type": "code",
   "execution_count": 8,
   "metadata": {},
   "outputs": [],
   "source": [
    "class PairDataset(Dataset):\n",
    "    def __init__(self, poses, music):\n",
    "        super().__init__()\n",
    "        self.poses = poses\n",
    "        self.music = music\n",
    "    def __getitem__(self, index):\n",
    "        return self.music[index], self.poses[index]\n",
    "    def __len__(self):\n",
    "        return len(self.poses)"
   ]
  },
  {
   "cell_type": "code",
   "execution_count": 9,
   "metadata": {},
   "outputs": [],
   "source": [
    "data = PairDataset(np.load(\"labels.npy\"), np.load(\"music.npy\"))"
   ]
  },
  {
   "cell_type": "code",
   "execution_count": 5,
   "metadata": {},
   "outputs": [],
   "source": [
    "enc.to(\"cuda\")\n",
    "dec.to(\"cuda\")\n",
    "enc_optim = optim.SGD(enc.parameters(), lr=3e-4)\n",
    "dec_optim = optim.SGD(dec.parameters(), lr=3e-4)\n",
    "loss_func = nn.CrossEntropyLoss()\n",
    "\n",
    "def train(epoch):\n",
    "    print(f\"Epoch: {epoch}\")\n",
    "    dataloader = DataLoader(data, batch_size=4)\n",
    "    pbar = tqdm(enumerate(dataloader), total=len(dataloader))\n",
    "    total_loss = 0.0\n",
    "    for i, batch in pbar:\n",
    "        loss = torch.tensor(0.0).to(\"cuda\")\n",
    "        music, pose = batch\n",
    "        music, pose = music.cuda(), pose.cuda()\n",
    "        music = music.to(dtype=torch.float32).transpose(1, 2)\n",
    "        pose = pose.to(dtype=torch.long)\n",
    "        accuracy = 0.0\n",
    "        \n",
    "        music_enc = enc(music)\n",
    "        for j in range(pose.size(1)):\n",
    "            pose_pred = dec(music_enc, prev=pose[:, j-1] if i > 0 else None)\n",
    "            loss += loss_func(pose_pred, pose[:, j])\n",
    "            accuracy += (torch.argmax(pose_pred, 1) == pose[:, j]).sum().float() / pose.size(1)\n",
    "            \n",
    "        total_loss += loss.item()/pose.size(1)\n",
    "        accuracy = accuracy.item()\n",
    "\n",
    "        pbar.set_postfix(loss=loss.item()/pose.size(1), accuracy=accuracy)\n",
    "        loss.backward()\n",
    "        enc_optim.step()\n",
    "        dec_optim.step()\n",
    "    pbar.set_postfix(loss=(total_loss/len(dataloader)), accuracy=accuracy/len(dataloader))\n",
    "    pbar.close()"
   ]
  },
  {
   "cell_type": "code",
   "execution_count": 6,
   "metadata": {},
   "outputs": [
    {
     "name": "stdout",
     "output_type": "stream",
     "text": [
      "Epoch: 0\n"
     ]
    },
    {
     "data": {
      "application/vnd.jupyter.widget-view+json": {
       "model_id": "762fdadb8636485e9c4d03977cf8d999",
       "version_major": 2,
       "version_minor": 0
      },
      "text/plain": [
       "HBox(children=(IntProgress(value=0, max=19), HTML(value='')))"
      ]
     },
     "metadata": {},
     "output_type": "display_data"
    },
    {
     "name": "stdout",
     "output_type": "stream",
     "text": [
      "\n",
      "Epoch: 1\n"
     ]
    },
    {
     "data": {
      "application/vnd.jupyter.widget-view+json": {
       "model_id": "faed37d2ae964dd985b671f1d1b70f47",
       "version_major": 2,
       "version_minor": 0
      },
      "text/plain": [
       "HBox(children=(IntProgress(value=0, max=19), HTML(value='')))"
      ]
     },
     "metadata": {},
     "output_type": "display_data"
    },
    {
     "name": "stdout",
     "output_type": "stream",
     "text": [
      "\n",
      "Epoch: 2\n"
     ]
    },
    {
     "data": {
      "application/vnd.jupyter.widget-view+json": {
       "model_id": "a139448c65e24289a20141b5e4a121e5",
       "version_major": 2,
       "version_minor": 0
      },
      "text/plain": [
       "HBox(children=(IntProgress(value=0, max=19), HTML(value='')))"
      ]
     },
     "metadata": {},
     "output_type": "display_data"
    },
    {
     "name": "stdout",
     "output_type": "stream",
     "text": [
      "\n",
      "Epoch: 3\n"
     ]
    },
    {
     "data": {
      "application/vnd.jupyter.widget-view+json": {
       "model_id": "52e93b27593f4dedb7e4d21f706164ef",
       "version_major": 2,
       "version_minor": 0
      },
      "text/plain": [
       "HBox(children=(IntProgress(value=0, max=19), HTML(value='')))"
      ]
     },
     "metadata": {},
     "output_type": "display_data"
    },
    {
     "name": "stdout",
     "output_type": "stream",
     "text": [
      "\n",
      "Epoch: 4\n"
     ]
    },
    {
     "data": {
      "application/vnd.jupyter.widget-view+json": {
       "model_id": "16a07eaa03f445ed93f17a3437da9e48",
       "version_major": 2,
       "version_minor": 0
      },
      "text/plain": [
       "HBox(children=(IntProgress(value=0, max=19), HTML(value='')))"
      ]
     },
     "metadata": {},
     "output_type": "display_data"
    },
    {
     "name": "stdout",
     "output_type": "stream",
     "text": [
      "\n",
      "Epoch: 5\n"
     ]
    },
    {
     "data": {
      "application/vnd.jupyter.widget-view+json": {
       "model_id": "ab0dbf92ad6a4468aea5de8ef1b1e12b",
       "version_major": 2,
       "version_minor": 0
      },
      "text/plain": [
       "HBox(children=(IntProgress(value=0, max=19), HTML(value='')))"
      ]
     },
     "metadata": {},
     "output_type": "display_data"
    },
    {
     "name": "stdout",
     "output_type": "stream",
     "text": [
      "\n",
      "Epoch: 6\n"
     ]
    },
    {
     "data": {
      "application/vnd.jupyter.widget-view+json": {
       "model_id": "280124bf49b84a958af29bf4c1723c5d",
       "version_major": 2,
       "version_minor": 0
      },
      "text/plain": [
       "HBox(children=(IntProgress(value=0, max=19), HTML(value='')))"
      ]
     },
     "metadata": {},
     "output_type": "display_data"
    },
    {
     "name": "stdout",
     "output_type": "stream",
     "text": [
      "\n",
      "Epoch: 7\n"
     ]
    },
    {
     "data": {
      "application/vnd.jupyter.widget-view+json": {
       "model_id": "a775955d46354ebe8562562b6d9934d7",
       "version_major": 2,
       "version_minor": 0
      },
      "text/plain": [
       "HBox(children=(IntProgress(value=0, max=19), HTML(value='')))"
      ]
     },
     "metadata": {},
     "output_type": "display_data"
    },
    {
     "name": "stdout",
     "output_type": "stream",
     "text": [
      "\n",
      "Epoch: 8\n"
     ]
    },
    {
     "data": {
      "application/vnd.jupyter.widget-view+json": {
       "model_id": "4202ca994ca24672b25b8df14a7dbb3b",
       "version_major": 2,
       "version_minor": 0
      },
      "text/plain": [
       "HBox(children=(IntProgress(value=0, max=19), HTML(value='')))"
      ]
     },
     "metadata": {},
     "output_type": "display_data"
    },
    {
     "name": "stdout",
     "output_type": "stream",
     "text": [
      "\n",
      "Epoch: 9\n"
     ]
    },
    {
     "data": {
      "application/vnd.jupyter.widget-view+json": {
       "model_id": "3d97edf7803e4e658c4bd07ae714a6a1",
       "version_major": 2,
       "version_minor": 0
      },
      "text/plain": [
       "HBox(children=(IntProgress(value=0, max=19), HTML(value='')))"
      ]
     },
     "metadata": {},
     "output_type": "display_data"
    },
    {
     "name": "stdout",
     "output_type": "stream",
     "text": [
      "\n"
     ]
    },
    {
     "data": {
      "text/plain": [
       "[None, None, None, None, None, None, None, None, None, None]"
      ]
     },
     "execution_count": 6,
     "metadata": {},
     "output_type": "execute_result"
    }
   ],
   "source": [
    "[train(i) for i in range(10)]"
   ]
  },
  {
   "cell_type": "code",
   "execution_count": 7,
   "metadata": {},
   "outputs": [],
   "source": [
    "torch.save(enc.state_dict(), \"enc.pt\")\n",
    "torch.save(dec.state_dict(), \"dec.pt\")"
   ]
  },
  {
   "cell_type": "code",
   "execution_count": 4,
   "metadata": {},
   "outputs": [],
   "source": [
    "clusters = np.load(\"clusters.npy\")\n",
    "def evaluate(music):\n",
    "    poses = []\n",
    "    music = torch.tensor(music).cuda().to(dtype=torch.float32).transpose(0,1).unsqueeze(0)\n",
    "    music_enc = enc(music)\n",
    "    prev = None\n",
    "    for i in range(10):\n",
    "        pose_pred = dec(music_enc, prev=prev)\n",
    "        prev = torch.topk(pose_pred.cpu(), 5)[1].squeeze().numpy()\n",
    "        np.random.shuffle(prev)\n",
    "        poses.append(prev[0].item())\n",
    "        prev = torch.tensor(prev[0]).unsqueeze(0).cuda()\n",
    "    return poses\n",
    "\n",
    "def pose_array(poses):\n",
    "    return np.concatenate([clusters[x].reshape(30, 15, 2) for x in poses], 0)"
   ]
  },
  {
   "cell_type": "code",
   "execution_count": 9,
   "metadata": {},
   "outputs": [
    {
     "data": {
      "text/plain": [
       "[120, 103, 86, 75, 21, 62, 57, 36, 17, 121]"
      ]
     },
     "execution_count": 9,
     "metadata": {},
     "output_type": "execute_result"
    }
   ],
   "source": [
    "evaluate(data[1][0])"
   ]
  },
  {
   "cell_type": "code",
   "execution_count": 10,
   "metadata": {},
   "outputs": [],
   "source": [
    "import matplotlib.pyplot as plt\n",
    "import matplotlib.animation as animation\n",
    "from celluloid import Camera\n",
    "\n",
    "BONE_LIST = [\n",
    "    [0, 1],\n",
    "    [1, 2], [2, 3], [3, 4],\n",
    "    [1, 5], [5, 6], [6, 7],\n",
    "    [1, 8],\n",
    "    [8, 9], [9, 10], [10, 11],\n",
    "    [8, 12], [12, 13], [13, 14]\n",
    "]\n",
    "\n",
    "def animate(poses, savename, fps=30, indices=None):\n",
    "    \"\"\"\n",
    "    Animates the poses and saves to savename.\n",
    "    :param poses: np.array of size (T, 15, 2)\n",
    "    \"\"\"\n",
    "    camera = Camera(plt.figure())\n",
    "    for i, pose in enumerate(poses):\n",
    "        if indices is not None:\n",
    "            pose_plot(pose, show=False, id_num=indices[i//30])\n",
    "        else:\n",
    "            pose_plot(pose, show=False)\n",
    "        camera.snap()\n",
    "    anim = camera.animate(blit=True)\n",
    "    plt.rcParams['animation.ffmpeg_path'] = '/usr/bin/ffmpeg'\n",
    "    writer = animation.FFMpegWriter(fps=fps)\n",
    "    anim.save(savename, writer=writer)\n",
    "    \n",
    "    \n",
    "def pose_plot(pose, show=True, pause=None, savepath=None, id_num=None):\n",
    "    for i, j in BONE_LIST:\n",
    "        plt.plot([pose[i, 0], pose[j, 0]], [pose[i, 1], pose[j, 1]], color='b')\n",
    "    plt.scatter(pose[:, 0], pose[:, 1], color='blue')\n",
    "    plt.gca().set_aspect('equal', adjustable='box')\n",
    "    if id_num is not None:\n",
    "        plt.annotate(id_num, (0, 0), xycoords='axes fraction')\n",
    "    for i, coordinate in enumerate(pose):\n",
    "        plt.annotate(i, coordinate, fontsize=10)\n",
    "    if savepath is not None:\n",
    "        plt.savefig(savepath)\n",
    "    if show:\n",
    "        if pause is None:\n",
    "            plt.show()\n",
    "        else:\n",
    "            plt.show(block=False)\n",
    "            plt.pause(pause)\n",
    "            plt.close()"
   ]
  },
  {
   "cell_type": "code",
   "execution_count": 14,
   "metadata": {},
   "outputs": [
    {
     "name": "stdout",
     "output_type": "stream",
     "text": [
      "[80, 80, 126, 46, 110, 121, 46, 52, 82, 44]\n"
     ]
    },
    {
     "data": {
      "image/png": "[encoded data removed]",
      "text/plain": [
       "<Figure size 432x288 with 1 Axes>"
      ]
     },
     "metadata": {
      "needs_background": "light"
     },
     "output_type": "display_data"
    }
   ],
   "source": [
    "enc.cuda()\n",
    "dec.cuda()\n",
    "dance = evaluate(data[4][0])\n",
    "print(dance)\n",
    "animate(pose_array(dance), \"dance4.mp4\", indices=dance)"
   ]
  },
  {
   "cell_type": "code",
   "execution_count": 15,
   "metadata": {},
   "outputs": [
    {
     "name": "stdout",
     "output_type": "stream",
     "text": [
      "[ 48 126  66  66   0 123  26  48  70  44]\n"
     ]
    },
    {
     "data": {
      "image/png": "[encoded data removed]",
      "text/plain": [
       "<Figure size 432x288 with 1 Axes>"
      ]
     },
     "metadata": {
      "needs_background": "light"
     },
     "output_type": "display_data"
    }
   ],
   "source": [
    "ground = data[4][1][:10]\n",
    "print(ground)\n",
    "animate(pose_array(ground), \"ground4.mp4\", indices=ground)"
   ]
  },
  {
   "cell_type": "code",
   "execution_count": null,
   "metadata": {},
   "outputs": [],
   "source": []
  }
 ],
 "metadata": {
  "kernelspec": {
   "display_name": "Python 3",
   "language": "python",
   "name": "python3"
  },
  "language_info": {
   "codemirror_mode": {
    "name": "ipython",
    "version": 3
   },
   "file_extension": ".py",
   "mimetype": "text/x-python",
   "name": "python",
   "nbconvert_exporter": "python",
   "pygments_lexer": "ipython3",
   "version": "3.7.5"
  }
 },
 "nbformat": 4,
 "nbformat_minor": 2
}
